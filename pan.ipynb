{
 "cells": [
  {
   "cell_type": "markdown",
   "id": "67fa1219",
   "metadata": {},
   "source": [
    "This is my first pandas file as in jupyter notebook \n",
    "in this i will be first using pandas as well as making notes in pandas \n",
    "as this will be my first pandas program as well as im making notes of it and practicing pandas for the first time."
   ]
  },
  {
   "cell_type": "markdown",
   "id": "8447ddbf",
   "metadata": {},
   "source": [
    "This is to import pandas and the \"as\" icluded in this just to give pandas a nickname  so wee dont have to call pnadas by full name instead we wirte pands as pd so that we can call it by using just pd \"as\" is to give it a nickname "
   ]
  },
  {
   "cell_type": "code",
   "execution_count": 2,
   "id": "36150a31",
   "metadata": {},
   "outputs": [],
   "source": [
    "import pandas as pd "
   ]
  },
  {
   "cell_type": "markdown",
   "id": "26dfb05a",
   "metadata": {},
   "source": [
    "There are two data structure in pandas (as there in python like set list and one more) so the two data structure are * Series \n",
    "                           * Data frames \n",
    "Altough there is a difference in list as there is a list in python so why do we use series in pands as the list in python is unlabled array and series is a labled array as every series in pandas has a index like (standing number)\n",
    "(array is a data structure which is used to store multiple daata in  one variable)"
   ]
  },
  {
   "cell_type": "markdown",
   "id": "b2034bae",
   "metadata": {},
   "source": [
    "This is the series making but mainly in pansas we use data frames"
   ]
  },
  {
   "cell_type": "code",
   "execution_count": 3,
   "id": "11805fa4",
   "metadata": {},
   "outputs": [
    {
     "name": "stdout",
     "output_type": "stream",
     "text": [
      "0    1\n",
      "1    2\n",
      "2    3\n",
      "3    4\n",
      "4    5\n",
      "dtype: int64\n"
     ]
    }
   ],
   "source": [
    "#  s is a variable in this for the starting name of series which makes easier to identify\n",
    "s = pd.Series([1,2,3,4,5])\n",
    "print(s)"
   ]
  },
  {
   "cell_type": "markdown",
   "id": "7550f2aa",
   "metadata": {},
   "source": [
    "In pandas in series we can change the index of our series "
   ]
  },
  {
   "cell_type": "code",
   "execution_count": 4,
   "id": "90545c49",
   "metadata": {},
   "outputs": [
    {
     "name": "stdout",
     "output_type": "stream",
     "text": [
      "a    1\n",
      "b    2\n",
      "c    3\n",
      "d    4\n",
      "e    5\n",
      "dtype: int64\n"
     ]
    }
   ],
   "source": [
    "ser = pd.Series([1,2,3,4,5], index=['a','b','c','d','e'])\n",
    "print(ser)"
   ]
  },
  {
   "cell_type": "markdown",
   "id": "126f2de0",
   "metadata": {},
   "source": [
    "And the second data type which is widely used is data frame is it is usually stored in df variable df is nothing just a variable as in series we use \"[]\"and he same in data frame we use \"{}\" and like series is a 1d data type whereas dataframe is a 2d data type "
   ]
  },
  {
   "cell_type": "code",
   "execution_count": 5,
   "id": "a7121926",
   "metadata": {},
   "outputs": [],
   "source": [
    "df = pd.DataFrame({\"name\": [\"rishab\", \"prachi\"]})"
   ]
  },
  {
   "cell_type": "code",
   "execution_count": 6,
   "id": "2b85c8a2",
   "metadata": {},
   "outputs": [
    {
     "data": {
      "text/html": [
       "<div>\n",
       "<style scoped>\n",
       "    .dataframe tbody tr th:only-of-type {\n",
       "        vertical-align: middle;\n",
       "    }\n",
       "\n",
       "    .dataframe tbody tr th {\n",
       "        vertical-align: top;\n",
       "    }\n",
       "\n",
       "    .dataframe thead th {\n",
       "        text-align: right;\n",
       "    }\n",
       "</style>\n",
       "<table border=\"1\" class=\"dataframe\">\n",
       "  <thead>\n",
       "    <tr style=\"text-align: right;\">\n",
       "      <th></th>\n",
       "      <th>name</th>\n",
       "    </tr>\n",
       "  </thead>\n",
       "  <tbody>\n",
       "    <tr>\n",
       "      <th>0</th>\n",
       "      <td>rishab</td>\n",
       "    </tr>\n",
       "    <tr>\n",
       "      <th>1</th>\n",
       "      <td>prachi</td>\n",
       "    </tr>\n",
       "  </tbody>\n",
       "</table>\n",
       "</div>"
      ],
      "text/plain": [
       "     name\n",
       "0  rishab\n",
       "1  prachi"
      ]
     },
     "execution_count": 6,
     "metadata": {},
     "output_type": "execute_result"
    }
   ],
   "source": [
    "df"
   ]
  },
  {
   "cell_type": "markdown",
   "id": "49c579f2",
   "metadata": {},
   "source": [
    "The upper one is just for storing name whereas this is manly used for 2d data type so we can store multiple things in this data type so in this lets store some of the information about Rish Prac"
   ]
  },
  {
   "cell_type": "code",
   "execution_count": 7,
   "id": "733fb382",
   "metadata": {},
   "outputs": [
    {
     "name": "stdout",
     "output_type": "stream",
     "text": [
      "      name  age       Fav_food\n",
      "0   Rishab   20  paneer chili \n",
      "1  Prachi    19       golgappa\n"
     ]
    }
   ],
   "source": [
    "data = pd.DataFrame({ \"name\": [\"Rishab\", \"Prachi \"], \"age\" : [20,19], \"Fav_food\": [\"paneer chili \" , \"golgappa\"] })\n",
    "print(data)"
   ]
  },
  {
   "cell_type": "markdown",
   "id": "51a7939f",
   "metadata": {},
   "source": [
    "This is to import the data from excel json or csv file so the function is called read like read is the kindof the name of the import and the data wherefver the data is from any source like excel csv or json all the data is stored in the form of a variable mainly the datatype which is dataframe mainly it is dataframe and mainly it stored in mainly the variable name is df so lets import (read) the command is \"pd(pd for pandas) \"pd.read_csv\" this is the excel file but as csv extention"
   ]
  },
  {
   "cell_type": "code",
   "execution_count": 8,
   "id": "2a510a2b",
   "metadata": {},
   "outputs": [],
   "source": [
    "dff = pd.read_csv(\"dataa/rish.csv\")"
   ]
  },
  {
   "cell_type": "code",
   "execution_count": 9,
   "id": "c45bbfd0",
   "metadata": {},
   "outputs": [
    {
     "data": {
      "text/html": [
       "<div>\n",
       "<style scoped>\n",
       "    .dataframe tbody tr th:only-of-type {\n",
       "        vertical-align: middle;\n",
       "    }\n",
       "\n",
       "    .dataframe tbody tr th {\n",
       "        vertical-align: top;\n",
       "    }\n",
       "\n",
       "    .dataframe thead th {\n",
       "        text-align: right;\n",
       "    }\n",
       "</style>\n",
       "<table border=\"1\" class=\"dataframe\">\n",
       "  <thead>\n",
       "    <tr style=\"text-align: right;\">\n",
       "      <th></th>\n",
       "      <th>employee_number</th>\n",
       "      <th>name</th>\n",
       "    </tr>\n",
       "  </thead>\n",
       "  <tbody>\n",
       "    <tr>\n",
       "      <th>0</th>\n",
       "      <td>6755</td>\n",
       "      <td>Chloe Pitts</td>\n",
       "    </tr>\n",
       "    <tr>\n",
       "      <th>1</th>\n",
       "      <td>6885</td>\n",
       "      <td>Ella Williamson</td>\n",
       "    </tr>\n",
       "    <tr>\n",
       "      <th>2</th>\n",
       "      <td>8471</td>\n",
       "      <td>Laurel Holland</td>\n",
       "    </tr>\n",
       "    <tr>\n",
       "      <th>3</th>\n",
       "      <td>7209</td>\n",
       "      <td>Cruz Tucker</td>\n",
       "    </tr>\n",
       "    <tr>\n",
       "      <th>4</th>\n",
       "      <td>5644</td>\n",
       "      <td>Hermione Calderon</td>\n",
       "    </tr>\n",
       "    <tr>\n",
       "      <th>...</th>\n",
       "      <td>...</td>\n",
       "      <td>...</td>\n",
       "    </tr>\n",
       "    <tr>\n",
       "      <th>68</th>\n",
       "      <td>8057</td>\n",
       "      <td>Serena Mcknight</td>\n",
       "    </tr>\n",
       "    <tr>\n",
       "      <th>69</th>\n",
       "      <td>7922</td>\n",
       "      <td>Rebekah Dennis</td>\n",
       "    </tr>\n",
       "    <tr>\n",
       "      <th>70</th>\n",
       "      <td>6226</td>\n",
       "      <td>Silas Bond</td>\n",
       "    </tr>\n",
       "    <tr>\n",
       "      <th>71</th>\n",
       "      <td>6700</td>\n",
       "      <td>Kaitlin Cotton</td>\n",
       "    </tr>\n",
       "    <tr>\n",
       "      <th>72</th>\n",
       "      <td>6045</td>\n",
       "      <td>Leandra Hardy</td>\n",
       "    </tr>\n",
       "  </tbody>\n",
       "</table>\n",
       "<p>73 rows × 2 columns</p>\n",
       "</div>"
      ],
      "text/plain": [
       "    employee_number               name\n",
       "0              6755        Chloe Pitts\n",
       "1              6885    Ella Williamson\n",
       "2              8471     Laurel Holland\n",
       "3              7209        Cruz Tucker\n",
       "4              5644  Hermione Calderon\n",
       "..              ...                ...\n",
       "68             8057    Serena Mcknight\n",
       "69             7922     Rebekah Dennis\n",
       "70             6226         Silas Bond\n",
       "71             6700     Kaitlin Cotton\n",
       "72             6045      Leandra Hardy\n",
       "\n",
       "[73 rows x 2 columns]"
      ]
     },
     "execution_count": 9,
     "metadata": {},
     "output_type": "execute_result"
    }
   ],
   "source": [
    "dff"
   ]
  },
  {
   "cell_type": "markdown",
   "id": "3285bbe1",
   "metadata": {},
   "source": [
    "There is further where you can utilize the data file that is stored in a variable for thsi case the variable name is dff These fucnrions are\n",
    "* dff.head() #the dff is is a variable name . is for the added funtion where head is used for the top 5 by deffault where as the parenthesis takes the values so that u can put your desired number which you want in the parenthesis so that i will print that nmbr if you want the top 10 you can use this dff.head(10) it is to print whatever you want in the parenthesis whatever you want you want the desired number whatever you want you have to enter in the parenthis \n",
    "## this is to take note that in python as well as in pandas the number index starts from 0\n",
    "variable.head(the number you want the index starts form 0 )"
   ]
  },
  {
   "cell_type": "code",
   "execution_count": 10,
   "id": "13846ed7",
   "metadata": {},
   "outputs": [
    {
     "data": {
      "text/html": [
       "<div>\n",
       "<style scoped>\n",
       "    .dataframe tbody tr th:only-of-type {\n",
       "        vertical-align: middle;\n",
       "    }\n",
       "\n",
       "    .dataframe tbody tr th {\n",
       "        vertical-align: top;\n",
       "    }\n",
       "\n",
       "    .dataframe thead th {\n",
       "        text-align: right;\n",
       "    }\n",
       "</style>\n",
       "<table border=\"1\" class=\"dataframe\">\n",
       "  <thead>\n",
       "    <tr style=\"text-align: right;\">\n",
       "      <th></th>\n",
       "      <th>employee_number</th>\n",
       "      <th>name</th>\n",
       "    </tr>\n",
       "  </thead>\n",
       "  <tbody>\n",
       "    <tr>\n",
       "      <th>0</th>\n",
       "      <td>6755</td>\n",
       "      <td>Chloe Pitts</td>\n",
       "    </tr>\n",
       "    <tr>\n",
       "      <th>1</th>\n",
       "      <td>6885</td>\n",
       "      <td>Ella Williamson</td>\n",
       "    </tr>\n",
       "    <tr>\n",
       "      <th>2</th>\n",
       "      <td>8471</td>\n",
       "      <td>Laurel Holland</td>\n",
       "    </tr>\n",
       "    <tr>\n",
       "      <th>3</th>\n",
       "      <td>7209</td>\n",
       "      <td>Cruz Tucker</td>\n",
       "    </tr>\n",
       "    <tr>\n",
       "      <th>4</th>\n",
       "      <td>5644</td>\n",
       "      <td>Hermione Calderon</td>\n",
       "    </tr>\n",
       "    <tr>\n",
       "      <th>5</th>\n",
       "      <td>7405</td>\n",
       "      <td>Leigh Kerr</td>\n",
       "    </tr>\n",
       "    <tr>\n",
       "      <th>6</th>\n",
       "      <td>5692</td>\n",
       "      <td>Whilemina Ray</td>\n",
       "    </tr>\n",
       "    <tr>\n",
       "      <th>7</th>\n",
       "      <td>7948</td>\n",
       "      <td>Xyla Nguyen</td>\n",
       "    </tr>\n",
       "  </tbody>\n",
       "</table>\n",
       "</div>"
      ],
      "text/plain": [
       "   employee_number               name\n",
       "0             6755        Chloe Pitts\n",
       "1             6885    Ella Williamson\n",
       "2             8471     Laurel Holland\n",
       "3             7209        Cruz Tucker\n",
       "4             5644  Hermione Calderon\n",
       "5             7405         Leigh Kerr\n",
       "6             5692      Whilemina Ray\n",
       "7             7948        Xyla Nguyen"
      ]
     },
     "execution_count": 10,
     "metadata": {},
     "output_type": "execute_result"
    }
   ],
   "source": [
    "dff.head(8) "
   ]
  },
  {
   "cell_type": "markdown",
   "id": "1f4ce2c1",
   "metadata": {},
   "source": [
    "As in pandas there is a head function there is also a tail funciton which is used for the last number the syntax is variable.tail(the number you want by default it is 5 )\n",
    "it will give the same number in parenthesis although the index starts from zero and the main thing is the function doesnt print the in the parenthesis although the index starts from 0 and gives the number in the parenthesis but it doesnt print that number\n",
    "### jitna chahiye utna dalo () isme mil jayega although the index starts from 0"
   ]
  },
  {
   "cell_type": "code",
   "execution_count": 11,
   "id": "e156bf9d",
   "metadata": {},
   "outputs": [
    {
     "data": {
      "text/html": [
       "<div>\n",
       "<style scoped>\n",
       "    .dataframe tbody tr th:only-of-type {\n",
       "        vertical-align: middle;\n",
       "    }\n",
       "\n",
       "    .dataframe tbody tr th {\n",
       "        vertical-align: top;\n",
       "    }\n",
       "\n",
       "    .dataframe thead th {\n",
       "        text-align: right;\n",
       "    }\n",
       "</style>\n",
       "<table border=\"1\" class=\"dataframe\">\n",
       "  <thead>\n",
       "    <tr style=\"text-align: right;\">\n",
       "      <th></th>\n",
       "      <th>employee_number</th>\n",
       "      <th>name</th>\n",
       "    </tr>\n",
       "  </thead>\n",
       "  <tbody>\n",
       "    <tr>\n",
       "      <th>65</th>\n",
       "      <td>6334</td>\n",
       "      <td>Christian Marquez</td>\n",
       "    </tr>\n",
       "    <tr>\n",
       "      <th>66</th>\n",
       "      <td>5691</td>\n",
       "      <td>Edward Spence</td>\n",
       "    </tr>\n",
       "    <tr>\n",
       "      <th>67</th>\n",
       "      <td>6938</td>\n",
       "      <td>Griffin Valdez</td>\n",
       "    </tr>\n",
       "    <tr>\n",
       "      <th>68</th>\n",
       "      <td>8057</td>\n",
       "      <td>Serena Mcknight</td>\n",
       "    </tr>\n",
       "    <tr>\n",
       "      <th>69</th>\n",
       "      <td>7922</td>\n",
       "      <td>Rebekah Dennis</td>\n",
       "    </tr>\n",
       "    <tr>\n",
       "      <th>70</th>\n",
       "      <td>6226</td>\n",
       "      <td>Silas Bond</td>\n",
       "    </tr>\n",
       "    <tr>\n",
       "      <th>71</th>\n",
       "      <td>6700</td>\n",
       "      <td>Kaitlin Cotton</td>\n",
       "    </tr>\n",
       "    <tr>\n",
       "      <th>72</th>\n",
       "      <td>6045</td>\n",
       "      <td>Leandra Hardy</td>\n",
       "    </tr>\n",
       "  </tbody>\n",
       "</table>\n",
       "</div>"
      ],
      "text/plain": [
       "    employee_number               name\n",
       "65             6334  Christian Marquez\n",
       "66             5691      Edward Spence\n",
       "67             6938     Griffin Valdez\n",
       "68             8057    Serena Mcknight\n",
       "69             7922     Rebekah Dennis\n",
       "70             6226         Silas Bond\n",
       "71             6700     Kaitlin Cotton\n",
       "72             6045      Leandra Hardy"
      ]
     },
     "execution_count": 11,
     "metadata": {},
     "output_type": "execute_result"
    }
   ],
   "source": [
    "dff.tail(8)"
   ]
  },
  {
   "cell_type": "markdown",
   "id": "ae5c1bdc",
   "metadata": {},
   "source": [
    "There is a function name (describe) which is use in to describe the file \n",
    "the syntaz is = variable.describe"
   ]
  },
  {
   "cell_type": "code",
   "execution_count": 12,
   "id": "40964e34",
   "metadata": {},
   "outputs": [
    {
     "data": {
      "text/html": [
       "<div>\n",
       "<style scoped>\n",
       "    .dataframe tbody tr th:only-of-type {\n",
       "        vertical-align: middle;\n",
       "    }\n",
       "\n",
       "    .dataframe tbody tr th {\n",
       "        vertical-align: top;\n",
       "    }\n",
       "\n",
       "    .dataframe thead th {\n",
       "        text-align: right;\n",
       "    }\n",
       "</style>\n",
       "<table border=\"1\" class=\"dataframe\">\n",
       "  <thead>\n",
       "    <tr style=\"text-align: right;\">\n",
       "      <th></th>\n",
       "      <th>employee_number</th>\n",
       "    </tr>\n",
       "  </thead>\n",
       "  <tbody>\n",
       "    <tr>\n",
       "      <th>count</th>\n",
       "      <td>73.000000</td>\n",
       "    </tr>\n",
       "    <tr>\n",
       "      <th>mean</th>\n",
       "      <td>7302.315068</td>\n",
       "    </tr>\n",
       "    <tr>\n",
       "      <th>std</th>\n",
       "      <td>1024.349033</td>\n",
       "    </tr>\n",
       "    <tr>\n",
       "      <th>min</th>\n",
       "      <td>5556.000000</td>\n",
       "    </tr>\n",
       "    <tr>\n",
       "      <th>25%</th>\n",
       "      <td>6522.000000</td>\n",
       "    </tr>\n",
       "    <tr>\n",
       "      <th>50%</th>\n",
       "      <td>7277.000000</td>\n",
       "    </tr>\n",
       "    <tr>\n",
       "      <th>75%</th>\n",
       "      <td>8146.000000</td>\n",
       "    </tr>\n",
       "    <tr>\n",
       "      <th>max</th>\n",
       "      <td>8962.000000</td>\n",
       "    </tr>\n",
       "  </tbody>\n",
       "</table>\n",
       "</div>"
      ],
      "text/plain": [
       "       employee_number\n",
       "count        73.000000\n",
       "mean       7302.315068\n",
       "std        1024.349033\n",
       "min        5556.000000\n",
       "25%        6522.000000\n",
       "50%        7277.000000\n",
       "75%        8146.000000\n",
       "max        8962.000000"
      ]
     },
     "execution_count": 12,
     "metadata": {},
     "output_type": "execute_result"
    }
   ],
   "source": [
    "dff.describe() # it usually describes the numbers in mathematical way like mean median mode"
   ]
  },
  {
   "cell_type": "markdown",
   "id": "734a8e44",
   "metadata": {},
   "source": [
    "Another function is (info) this function is used for getting the whole information about the entered file,\n",
    "the syntax is variable.info()"
   ]
  },
  {
   "cell_type": "code",
   "execution_count": 13,
   "id": "7daaaa9a",
   "metadata": {},
   "outputs": [
    {
     "name": "stdout",
     "output_type": "stream",
     "text": [
      "<class 'pandas.core.frame.DataFrame'>\n",
      "RangeIndex: 73 entries, 0 to 72\n",
      "Data columns (total 2 columns):\n",
      " #   Column           Non-Null Count  Dtype \n",
      "---  ------           --------------  ----- \n",
      " 0   employee_number  73 non-null     int64 \n",
      " 1   name             73 non-null     object\n",
      "dtypes: int64(1), object(1)\n",
      "memory usage: 1.3+ KB\n"
     ]
    }
   ],
   "source": [
    "dff.info()"
   ]
  },
  {
   "cell_type": "markdown",
   "id": "333b3f5d",
   "metadata": {},
   "source": [
    "Data selection :- this funcion is used to print only one row or column\n",
    "syntax is = variable[is used to take the thing inside] always use this with strring \"\" as this is to take the comun name if it is string then \" is used "
   ]
  },
  {
   "cell_type": "code",
   "execution_count": 14,
   "id": "8c2a2b09",
   "metadata": {},
   "outputs": [
    {
     "data": {
      "text/plain": [
       "0           Chloe Pitts\n",
       "1       Ella Williamson\n",
       "2        Laurel Holland\n",
       "3           Cruz Tucker\n",
       "4     Hermione Calderon\n",
       "            ...        \n",
       "68      Serena Mcknight\n",
       "69       Rebekah Dennis\n",
       "70           Silas Bond\n",
       "71       Kaitlin Cotton\n",
       "72        Leandra Hardy\n",
       "Name: name, Length: 73, dtype: object"
      ]
     },
     "execution_count": 14,
     "metadata": {},
     "output_type": "execute_result"
    }
   ],
   "source": [
    "dff[\"name\"] # this is to print the column [to take the input \"this \" because it is string and it is used with all the string \"]"
   ]
  },
  {
   "cell_type": "code",
   "execution_count": 15,
   "id": "c1002586",
   "metadata": {},
   "outputs": [
    {
     "data": {
      "text/plain": [
       "0     6755\n",
       "1     6885\n",
       "2     8471\n",
       "3     7209\n",
       "4     5644\n",
       "      ... \n",
       "68    8057\n",
       "69    7922\n",
       "70    6226\n",
       "71    6700\n",
       "72    6045\n",
       "Name: employee_number, Length: 73, dtype: int64"
      ]
     },
     "execution_count": 15,
     "metadata": {},
     "output_type": "execute_result"
    }
   ],
   "source": [
    "dff[\"employee_number\"]"
   ]
  },
  {
   "cell_type": "markdown",
   "id": "fe022fa2",
   "metadata": {},
   "source": [
    "If you want to have to select multiple comuln's data this function is use \n",
    "syntax = variable[\"column_name ,\"column_ name]"
   ]
  },
  {
   "cell_type": "code",
   "execution_count": null,
   "id": "afb57590",
   "metadata": {},
   "outputs": [
    {
     "data": {
      "text/html": [
       "<div>\n",
       "<style scoped>\n",
       "    .dataframe tbody tr th:only-of-type {\n",
       "        vertical-align: middle;\n",
       "    }\n",
       "\n",
       "    .dataframe tbody tr th {\n",
       "        vertical-align: top;\n",
       "    }\n",
       "\n",
       "    .dataframe thead th {\n",
       "        text-align: right;\n",
       "    }\n",
       "</style>\n",
       "<table border=\"1\" class=\"dataframe\">\n",
       "  <thead>\n",
       "    <tr style=\"text-align: right;\">\n",
       "      <th></th>\n",
       "      <th>name</th>\n",
       "      <th>employee_number</th>\n",
       "    </tr>\n",
       "  </thead>\n",
       "  <tbody>\n",
       "    <tr>\n",
       "      <th>0</th>\n",
       "      <td>Chloe Pitts</td>\n",
       "      <td>6755</td>\n",
       "    </tr>\n",
       "    <tr>\n",
       "      <th>1</th>\n",
       "      <td>Ella Williamson</td>\n",
       "      <td>6885</td>\n",
       "    </tr>\n",
       "    <tr>\n",
       "      <th>2</th>\n",
       "      <td>Laurel Holland</td>\n",
       "      <td>8471</td>\n",
       "    </tr>\n",
       "    <tr>\n",
       "      <th>3</th>\n",
       "      <td>Cruz Tucker</td>\n",
       "      <td>7209</td>\n",
       "    </tr>\n",
       "    <tr>\n",
       "      <th>4</th>\n",
       "      <td>Hermione Calderon</td>\n",
       "      <td>5644</td>\n",
       "    </tr>\n",
       "    <tr>\n",
       "      <th>...</th>\n",
       "      <td>...</td>\n",
       "      <td>...</td>\n",
       "    </tr>\n",
       "    <tr>\n",
       "      <th>68</th>\n",
       "      <td>Serena Mcknight</td>\n",
       "      <td>8057</td>\n",
       "    </tr>\n",
       "    <tr>\n",
       "      <th>69</th>\n",
       "      <td>Rebekah Dennis</td>\n",
       "      <td>7922</td>\n",
       "    </tr>\n",
       "    <tr>\n",
       "      <th>70</th>\n",
       "      <td>Silas Bond</td>\n",
       "      <td>6226</td>\n",
       "    </tr>\n",
       "    <tr>\n",
       "      <th>71</th>\n",
       "      <td>Kaitlin Cotton</td>\n",
       "      <td>6700</td>\n",
       "    </tr>\n",
       "    <tr>\n",
       "      <th>72</th>\n",
       "      <td>Leandra Hardy</td>\n",
       "      <td>6045</td>\n",
       "    </tr>\n",
       "  </tbody>\n",
       "</table>\n",
       "<p>73 rows × 2 columns</p>\n",
       "</div>"
      ],
      "text/plain": [
       "                 name  employee_number\n",
       "0         Chloe Pitts             6755\n",
       "1     Ella Williamson             6885\n",
       "2      Laurel Holland             8471\n",
       "3         Cruz Tucker             7209\n",
       "4   Hermione Calderon             5644\n",
       "..                ...              ...\n",
       "68    Serena Mcknight             8057\n",
       "69     Rebekah Dennis             7922\n",
       "70         Silas Bond             6226\n",
       "71     Kaitlin Cotton             6700\n",
       "72      Leandra Hardy             6045\n",
       "\n",
       "[73 rows x 2 columns]"
      ]
     },
     "execution_count": 20,
     "metadata": {},
     "output_type": "execute_result"
    }
   ],
   "source": [
    "dff[[\"name\" , \"employee_number\"]] #if you want to print two or multiple column you can  do it using this for\n",
    "# you have to use two square bracket [[]]"
   ]
  },
  {
   "cell_type": "markdown",
   "id": "01362550",
   "metadata": {},
   "source": [
    "If you want to see the row data you can do it using this function \n",
    "syntax = variable.iloc[number of the row ]"
   ]
  },
  {
   "cell_type": "code",
   "execution_count": 27,
   "id": "034c06a6",
   "metadata": {},
   "outputs": [
    {
     "data": {
      "text/plain": [
       "employee_number           6755\n",
       "name               Chloe Pitts\n",
       "Name: 0, dtype: object"
      ]
     },
     "execution_count": 27,
     "metadata": {},
     "output_type": "execute_result"
    }
   ],
   "source": [
    "dff.iloc[0]"
   ]
  },
  {
   "cell_type": "markdown",
   "id": "17da96c5",
   "metadata": {},
   "source": [
    "Now have look at data cleaaning mainly removing and clearing null values in pandas it is (Nan)\n",
    "The two functions are dropna and fill na"
   ]
  }
 ],
 "metadata": {
  "kernelspec": {
   "display_name": "Python 3",
   "language": "python",
   "name": "python3"
  },
  "language_info": {
   "codemirror_mode": {
    "name": "ipython",
    "version": 3
   },
   "file_extension": ".py",
   "mimetype": "text/x-python",
   "name": "python",
   "nbconvert_exporter": "python",
   "pygments_lexer": "ipython3",
   "version": "3.13.1"
  }
 },
 "nbformat": 4,
 "nbformat_minor": 5
}
